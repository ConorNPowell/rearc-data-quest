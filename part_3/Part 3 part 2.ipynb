{
 "cells": [
  {
   "cell_type": "code",
   "execution_count": 38,
   "id": "601210b8-a268-4d20-bbc4-ceb5b4bc5c79",
   "metadata": {},
   "outputs": [],
   "source": [
    "import pandas as pd \n",
    "import boto3\n",
    "import json\n",
    "from io import StringIO\n",
    "from io import BytesIO\n",
    "import matplotlib.pyplot as plt"
   ]
  },
  {
   "cell_type": "markdown",
   "id": "a45c6a22-f225-44e4-9f06-82b4215b55c1",
   "metadata": {},
   "source": [
    "### 0. Dataframe Ingestion and prep\n",
    "#### Ingest now for later usage"
   ]
  },
  {
   "cell_type": "code",
   "execution_count": 48,
   "id": "e671e34b-41c1-47eb-bb09-21a6e8ee9003",
   "metadata": {},
   "outputs": [
    {
     "name": "stdout",
     "output_type": "stream",
     "text": [
      "  ID Nation         Nation  ID Year  Year  Population    Slug Nation\n",
      "0   01000US  United States     2022  2022   331097593  united-states\n",
      "1   01000US  United States     2021  2021   329725481  united-states\n",
      "2   01000US  United States     2020  2020   326569308  united-states\n",
      "3   01000US  United States     2019  2019   324697795  united-states\n",
      "4   01000US  United States     2018  2018   322903030  united-states\n",
      "5   01000US  United States     2017  2017   321004407  united-states\n",
      "6   01000US  United States     2016  2016   318558162  united-states\n",
      "7   01000US  United States     2015  2015   316515021  united-states\n",
      "8   01000US  United States     2014  2014   314107084  united-states\n",
      "9   01000US  United States     2013  2013   311536594  united-states\n",
      "         series_id  year period    value footnote_codes\n",
      "0      PRS30006011  1995    Q01    2.600            NaN\n",
      "1      PRS30006011  1995    Q02    2.100            NaN\n",
      "2      PRS30006011  1995    Q03    0.900            NaN\n",
      "3      PRS30006011  1995    Q04    0.100            NaN\n",
      "4      PRS30006011  1995    Q05    1.400            NaN\n",
      "...            ...   ...    ...      ...            ...\n",
      "35812  PRS88003203  2023    Q02  116.953            NaN\n",
      "35813  PRS88003203  2023    Q03  116.928            NaN\n",
      "35814  PRS88003203  2023    Q04  115.824              R\n",
      "35815  PRS88003203  2023    Q05  116.472              R\n",
      "35816  PRS88003203  2024    Q01  117.097            NaN\n",
      "\n",
      "[35817 rows x 5 columns]\n"
     ]
    }
   ],
   "source": [
    "###Initialize a session using Amazon S3\n",
    "s3 = boto3.client('s3')\n",
    "\n",
    "###Define the S3 bucket\n",
    "bucket_name = 'rearc-data-quest-conor'\n",
    "\n",
    "###Define the S3 bucket\n",
    "p1_file_name = 'bls_data/pr.data.0.Current'\n",
    "\n",
    "###Get the file from S3 and read it into a data farme\n",
    "try:\n",
    "    file_obj = BytesIO()\n",
    "    s3.download_fileobj(bucket_name, p1_file_name, file_obj)\n",
    "    file_obj.seek(0)\n",
    "    p1_df = pd.read_csv(file_obj, sep='\\s+')\n",
    "except Exception as e:\n",
    "    print(e)\n",
    "\n",
    "###Define file name for part 2 processing\n",
    "p2_file_name = 'usa_data/06_24_2024/usa_data_api.json'\n",
    "\n",
    "###Get the file object from S3\n",
    "p2_file_obj = s3.get_object(Bucket=bucket_name, Key=p2_file_name)\n",
    "p2_file_content = p2_file_obj['Body'].read().decode('utf-8')\n",
    "\n",
    "###Load JSON data using pandas\n",
    "p2_json_content = json.loads(p2_file_content)\n",
    "p2_json_content = p2_json_content['data']\n",
    "part_two_df = pd.json_normalize(p2_json_content)\n",
    "print(part_two_df)\n",
    "print(p1_df)"
   ]
  },
  {
   "cell_type": "markdown",
   "id": "277e4160-bf5c-473e-be0d-b668842c77ff",
   "metadata": {},
   "source": [
    "### 1. Basic Statistics\n",
    "#### Find the mean and standard deviation of the US population between 2013-2018 using Part 2 Data\n",
    "#### Must use pandas"
   ]
  },
  {
   "cell_type": "code",
   "execution_count": 14,
   "id": "119e595b-bb09-49d2-9179-dabdf0bb15f2",
   "metadata": {},
   "outputs": [
    {
     "name": "stdout",
     "output_type": "stream",
     "text": [
      "  ID Nation         Nation  ID Year  Year  Population    Slug Nation\n",
      "4   01000US  United States     2018  2018   322903030  united-states\n",
      "5   01000US  United States     2017  2017   321004407  united-states\n",
      "6   01000US  United States     2016  2016   318558162  united-states\n",
      "7   01000US  United States     2015  2015   316515021  united-states\n",
      "8   01000US  United States     2014  2014   314107084  united-states\n",
      "9   01000US  United States     2013  2013   311536594  united-states\n",
      "  index    Population\n",
      "0  mean  3.174374e+08\n",
      "1   std  4.257090e+06\n"
     ]
    }
   ],
   "source": [
    "###Filtering data for 2013-2018\n",
    "part_two_df['Year'] = pd.to_datetime(part_two_df['Year']).dt.year\n",
    "part_two_filtered_df = part_two_df[(part_two_df['Year'].between(2013,2018))]\n",
    "needed_columns = ['Population']\n",
    "###filtering for just the needed columns\n",
    "new_df = part_two_filtered_df[needed_columns]\n",
    "###Getting actual stats\n",
    "mean_std = new_df.agg(['mean','std']).reset_index()\n",
    "print(mean_std)"
   ]
  },
  {
   "cell_type": "markdown",
   "id": "e5267025-7f5a-4419-a85b-2003bb954702",
   "metadata": {},
   "source": [
    "### Mean population of the US between 2013-2018 = 3.174374e+08 or 317,437,400.\n",
    "### Standard Deviation of the US poulation between 2013-2018 = 4.257090e+06 or 4,257,090."
   ]
  },
  {
   "cell_type": "markdown",
   "id": "47cad33a-ce55-4cc2-b06b-89d57a9f9058",
   "metadata": {},
   "source": [
    "### 2. Part 1 Report\n",
    "#### Create report that will show each series id and their best year by value."
   ]
  },
  {
   "cell_type": "code",
   "execution_count": 44,
   "id": "9795c40a-303e-44dc-9174-334dbdb4d5c7",
   "metadata": {},
   "outputs": [
    {
     "name": "stdout",
     "output_type": "stream",
     "text": [
      "     index    series_id  year    value\n",
      "0       27  PRS30006011  2022   20.500\n",
      "1       57  PRS30006012  2022   17.100\n",
      "2       63  PRS30006013  1998  704.125\n",
      "3      105  PRS30006021  2010   17.600\n",
      "4      135  PRS30006022  2010   12.500\n",
      "..     ...          ...   ...      ...\n",
      "277   8182  PRS88003192  2002  282.800\n",
      "278   8233  PRS88003193  2023  767.007\n",
      "279   8262  PRS88003201  2022   36.100\n",
      "280   8292  PRS88003202  2022   28.900\n",
      "281   8323  PRS88003203  2023  582.391\n",
      "\n",
      "[282 rows x 4 columns]\n"
     ]
    }
   ],
   "source": [
    "###Summing DF beforehand\n",
    "df_summed = p1_df.groupby(['series_id','year'])['value'].sum().reset_index()\n",
    "###Finding max\n",
    "idx = df_summed.groupby('series_id')['value'].idxmax()\n",
    "###Matching\n",
    "report = df_summed.loc[idx, ['series_id', 'year', 'value']].reset_index()\n",
    "print(report)"
   ]
  },
  {
   "cell_type": "markdown",
   "id": "25e5ea46-dc62-4b16-8e95-3a435b5de47e",
   "metadata": {},
   "source": [
    "### 3. Combining both dataframe\n",
    "#### Create a report contating, series_id, year, period, value, and yearly population, of Series PRS30006032 and Period Q01\n"
   ]
  },
  {
   "cell_type": "code",
   "execution_count": 54,
   "id": "9cb9b95a-04bf-4869-859e-a551d841306b",
   "metadata": {},
   "outputs": [
    {
     "name": "stdout",
     "output_type": "stream",
     "text": [
      "      series_id       year period  value   Population\n",
      "0   PRS30006032 1995-01-01    Q01    0.0          NaN\n",
      "1   PRS30006032 1996-01-01    Q01   -4.4          NaN\n",
      "2   PRS30006032 1997-01-01    Q01    2.7          NaN\n",
      "3   PRS30006032 1998-01-01    Q01    1.0          NaN\n",
      "4   PRS30006032 1999-01-01    Q01   -4.1          NaN\n",
      "5   PRS30006032 2000-01-01    Q01    0.5          NaN\n",
      "6   PRS30006032 2001-01-01    Q01   -6.5          NaN\n",
      "7   PRS30006032 2002-01-01    Q01   -6.7          NaN\n",
      "8   PRS30006032 2003-01-01    Q01   -5.6          NaN\n",
      "9   PRS30006032 2004-01-01    Q01    2.1          NaN\n",
      "10  PRS30006032 2005-01-01    Q01   -0.6          NaN\n",
      "11  PRS30006032 2006-01-01    Q01    1.8          NaN\n",
      "12  PRS30006032 2007-01-01    Q01   -0.7          NaN\n",
      "13  PRS30006032 2008-01-01    Q01   -3.4          NaN\n",
      "14  PRS30006032 2009-01-01    Q01  -21.0          NaN\n",
      "15  PRS30006032 2010-01-01    Q01    3.4          NaN\n",
      "16  PRS30006032 2011-01-01    Q01    1.7          NaN\n",
      "17  PRS30006032 2012-01-01    Q01    2.8          NaN\n",
      "18  PRS30006032 2013-01-01    Q01    0.8  311536594.0\n",
      "19  PRS30006032 2014-01-01    Q01   -0.1  314107084.0\n",
      "20  PRS30006032 2015-01-01    Q01   -1.6  316515021.0\n",
      "21  PRS30006032 2016-01-01    Q01   -1.4  318558162.0\n",
      "22  PRS30006032 2017-01-01    Q01    0.7  321004407.0\n",
      "23  PRS30006032 2018-01-01    Q01    0.4  322903030.0\n",
      "24  PRS30006032 2019-01-01    Q01   -1.6  324697795.0\n",
      "25  PRS30006032 2020-01-01    Q01   -6.7  326569308.0\n",
      "26  PRS30006032 2021-01-01    Q01    1.2  329725481.0\n",
      "27  PRS30006032 2022-01-01    Q01    5.6  331097593.0\n",
      "28  PRS30006032 2023-01-01    Q01    0.8          NaN\n",
      "29  PRS30006032 2024-01-01    Q01   -0.2          NaN\n"
     ]
    },
    {
     "name": "stderr",
     "output_type": "stream",
     "text": [
      "C:\\Users\\cpow2\\AppData\\Local\\Temp\\ipykernel_6572\\1917195880.py:3: SettingWithCopyWarning: \n",
      "A value is trying to be set on a copy of a slice from a DataFrame.\n",
      "Try using .loc[row_indexer,col_indexer] = value instead\n",
      "\n",
      "See the caveats in the documentation: https://pandas.pydata.org/pandas-docs/stable/user_guide/indexing.html#returning-a-view-versus-a-copy\n",
      "  filtered_p1['year'] = pd.to_datetime(filtered_p1['year'], format='%Y')\n"
     ]
    }
   ],
   "source": [
    "###Filtering p1 df for just what we need.\n",
    "filtered_p1 = p1_df[(p1_df['series_id'] == 'PRS30006032') & (p1_df['period'] == 'Q01')]\n",
    "filtered_p1['year'] = pd.to_datetime(filtered_p1['year'], format='%Y')\n",
    "part_two_df = part_two_df.rename(columns={'Year':'year'})\n",
    "part_two_df['year'] = pd.to_datetime(part_two_df['year'], format='%Y')\n",
    "report_2 = filtered_p1.merge(part_two_df, on='year', how='left')\n",
    "print(report_2[['series_id', 'year', 'period', 'value', 'Population']])"
   ]
  }
 ],
 "metadata": {
  "kernelspec": {
   "display_name": "Python 3 (ipykernel)",
   "language": "python",
   "name": "python3"
  },
  "language_info": {
   "codemirror_mode": {
    "name": "ipython",
    "version": 3
   },
   "file_extension": ".py",
   "mimetype": "text/x-python",
   "name": "python",
   "nbconvert_exporter": "python",
   "pygments_lexer": "ipython3",
   "version": "3.11.7"
  }
 },
 "nbformat": 4,
 "nbformat_minor": 5
}
